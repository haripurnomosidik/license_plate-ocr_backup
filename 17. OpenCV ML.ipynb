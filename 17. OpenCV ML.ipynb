{
 "cells": [
  {
   "cell_type": "markdown",
   "metadata": {},
   "source": [
    "# OpenCV ML SVM for OCR"
   ]
  },
  {
   "cell_type": "markdown",
   "metadata": {},
   "source": [
    "### Image Augmentation \n",
    "- Image augmentation is one useful technique that can **increase** the size of the **training set**, **without** acquiring **new images**."
   ]
  },
  {
   "cell_type": "code",
   "execution_count": 3,
   "metadata": {},
   "outputs": [],
   "source": [
    "def img_augmentation(img):\n",
    "    kernel = np.ones((3,3),np.uint8)\n",
    "    kernel2D = np.array([[-1,-1,-1], [-1,9,-1], [-1,-1,-1]])\n",
    "    h, w = img.shape\n",
    "    center = (w // 2, h // 2)\n",
    "    M05a = cv2.getRotationMatrix2D(center, 5, 1.0)\n",
    "    M05b = cv2.getRotationMatrix2D(center, -5, 1.0)\n",
    "    Mr = np.float32([[1, 0, 2], [0, 1, 0]])\n",
    "    Ml = np.float32([[1, 0, -2], [0, 1, 0]])\n",
    "    Mr3 = np.float32([[1, 0, 3], [0, 1, 0]])\n",
    "    Ml3 = np.float32([[1, 0, -3], [0, 1, 0]])\n",
    "    \n",
    "    img_blur = cv2.GaussianBlur(img,(3,3),0)\n",
    "    img_closing = cv2.morphologyEx(img, cv2.MORPH_OPEN, kernel)\n",
    "    img_erode = cv2.erode(img, kernel)\n",
    "    img_tr_r = cv2.warpAffine(img, Mr, (w, h), borderValue=(255,255,255))\n",
    "    img_tr_l = cv2.warpAffine(img, Ml, (w, h), borderValue=(255,255,255))\n",
    "    img_tr_r3 = cv2.warpAffine(img, Mr3, (w, h), borderValue=(255,255,255))\n",
    "    img_tr_l3 = cv2.warpAffine(img, Ml3, (w, h), borderValue=(255,255,255))\n",
    "    img_rot5a = cv2.warpAffine(img, M05a, (w, h), borderValue=(255,255,255))\n",
    "    img_rot5b = cv2.warpAffine(img, M05b, (w, h), borderValue=(255,255,255))\n",
    "    \n",
    "    return[img, img_blur, img_closing, img_erode, img_rot5a, img_rot5b, img_tr_r, img_tr_l, img_tr_r3, img_tr_l3]"
   ]
  },
  {
   "cell_type": "code",
   "execution_count": 15,
   "metadata": {},
   "outputs": [],
   "source": [
    "import cv2\n",
    "import numpy as np\n",
    "import matplotlib.pyplot as plt\n",
    "img = cv2.imread(\"char_dataset/0/0_0.jpg\")\n",
    "gray = cv2.cvtColor(img, cv2.COLOR_BGR2GRAY)"
   ]
  },
  {
   "cell_type": "code",
   "execution_count": 16,
   "metadata": {},
   "outputs": [],
   "source": [
    "imgs = img_augmentation(gray)"
   ]
  },
  {
   "cell_type": "code",
   "execution_count": 17,
   "metadata": {},
   "outputs": [],
   "source": [
    "cv2.imshow('app', imgs[8])\n",
    "cv2.waitKey(0)\n",
    "cv2.destroyAllWindows()"
   ]
  },
  {
   "cell_type": "code",
   "execution_count": 18,
   "metadata": {},
   "outputs": [
    {
     "data": {
      "text/plain": [
       "10"
      ]
     },
     "execution_count": 18,
     "metadata": {},
     "output_type": "execute_result"
    }
   ],
   "source": [
    "len(imgs)"
   ]
  },
  {
   "cell_type": "code",
   "execution_count": 19,
   "metadata": {},
   "outputs": [],
   "source": [
    "for i, img in enumerate(imgs):\n",
    "    cv2.imshow(\"char augmented - %d\" % i, img)\n",
    "cv2.waitKey(0)\n",
    "cv2.destroyAllWindows()"
   ]
  },
  {
   "cell_type": "markdown",
   "metadata": {},
   "source": [
    "### Deskewing & HOG\n",
    "\n",
    "- HOG :\n",
    "    - **Feature Descriptor** is a representation of an image or an image patch that simplifies the image by extracting **useful information**.\n",
    "    - Typically, a feature descriptor converts an image of size width x height x 3 (channels ) to a **feature vector** / **array** of length `n`.\n",
    "    - Where `n` could be **width x height x channel** on original image.\n",
    "    - The **feature vector** produced by **HOG algorithms** when fed into an image classification algorithms like Support Vector Machine (SVM) **produce good results**.\n",
    "- HOG Algorithm :\n",
    "     - Calculate the Gradient Images :\n",
    "         - Sobel Operator (`cv2.Sobel()`): Using the sobel operation, you can detect the edges of an image in both horizontal and vertical directions \n",
    "     - Find the magnitude ($g$) and direction ($\\theta$) of gradient :\n",
    "         - Using `cv2.cartToPolar(x,y)` : transform cartesian to polar image."
   ]
  },
  {
   "cell_type": "code",
   "execution_count": 20,
   "metadata": {},
   "outputs": [],
   "source": [
    "SZ=20\n",
    "bin_n = 16\n",
    "\n",
    "affine_flags = cv2.WARP_INVERSE_MAP|cv2.INTER_LINEAR\n",
    "\n",
    "def deskew(img):\n",
    "    m = cv2.moments(img)\n",
    "    if abs(m['mu02']) < 1e-2:\n",
    "        return img.copy()\n",
    "    skew = m['mu11']/m['mu02']\n",
    "    M = np.float32([[1, skew, -0.5*SZ*skew], [0, 1, 0]])\n",
    "    img = cv2.warpAffine(img,M,(SZ, SZ),flags=affine_flags)\n",
    "    return img\n",
    "\n",
    "\n",
    "def hog(img):\n",
    "    gx = cv2.Sobel(img, cv2.CV_32F, 1, 0)\n",
    "    gy = cv2.Sobel(img, cv2.CV_32F, 0, 1)\n",
    "    mag, ang = cv2.cartToPolar(gx, gy)\n",
    "\n",
    "    # quantizing binvalues in (0...16)\n",
    "    bins = np.int32(bin_n*ang/(2*np.pi))   \n",
    "    bin_cells = bins[:10,:10], bins[10:,:10], bins[:10,10:], bins[10:,10:]\n",
    "    mag_cells = mag[:10,:10], mag[10:,:10], mag[:10,10:], mag[10:,10:]\n",
    "    hists = [np.bincount(b.ravel(), m.ravel(), bin_n) for b, m in zip(bin_cells, mag_cells)]\n",
    "    hist = np.hstack(hists)   \n",
    "    return hist"
   ]
  },
  {
   "cell_type": "markdown",
   "metadata": {},
   "source": [
    "- Deskewing (deskew the image using its second order moments)"
   ]
  },
  {
   "cell_type": "code",
   "execution_count": 21,
   "metadata": {},
   "outputs": [
    {
     "data": {
      "text/plain": [
       "<matplotlib.image.AxesImage at 0x226f0e40d90>"
      ]
     },
     "execution_count": 21,
     "metadata": {},
     "output_type": "execute_result"
    },
    {
     "data": {
      "image/png": "[encoded data removed]",
      "text/plain": [
       "<Figure size 432x288 with 1 Axes>"
      ]
     },
     "metadata": {
      "needs_background": "light"
     },
     "output_type": "display_data"
    }
   ],
   "source": [
    "img = cv2.imread(\"char_dataset/0/0_8.jpg\")\n",
    "gray = cv2.cvtColor(img, cv2.COLOR_BGR2GRAY)\n",
    "gray = cv2.bitwise_not(gray)\n",
    "\n",
    "h, w= gray.shape\n",
    "center = (w // 2, h // 2)\n",
    "M = cv2.getRotationMatrix2D(center, -10, 1.0)\n",
    "gray_rot = cv2.warpAffine(gray, M, (w, h), borderValue=(180,180,180))\n",
    "\n",
    "plt.imshow(gray, cmap=\"jet\")"
   ]
  },
  {
   "cell_type": "code",
   "execution_count": 22,
   "metadata": {},
   "outputs": [
    {
     "data": {
      "text/plain": [
       "<matplotlib.image.AxesImage at 0x226f0f36970>"
      ]
     },
     "execution_count": 22,
     "metadata": {},
     "output_type": "execute_result"
    },
    {
     "data": {
      "image/png": "[encoded data removed]",
      "text/plain": [
       "<Figure size 432x288 with 1 Axes>"
      ]
     },
     "metadata": {
      "needs_background": "light"
     },
     "output_type": "display_data"
    }
   ],
   "source": [
    "deskew_img = deskew(gray)\n",
    "\n",
    "plt.imshow(deskew_img, cmap=\"jet\")"
   ]
  },
  {
   "cell_type": "markdown",
   "metadata": {},
   "source": [
    "- HOG"
   ]
  },
  {
   "cell_type": "code",
   "execution_count": 23,
   "metadata": {},
   "outputs": [],
   "source": [
    "hog_img = hog(deskew_img)"
   ]
  },
  {
   "cell_type": "code",
   "execution_count": 24,
   "metadata": {},
   "outputs": [
    {
     "data": {
      "text/plain": [
       "(64,)"
      ]
     },
     "execution_count": 24,
     "metadata": {},
     "output_type": "execute_result"
    }
   ],
   "source": [
    "hog_img.shape"
   ]
  },
  {
   "cell_type": "markdown",
   "metadata": {},
   "source": [
    "- Load Dataset"
   ]
  },
  {
   "cell_type": "code",
   "execution_count": 25,
   "metadata": {},
   "outputs": [
    {
     "name": "stdout",
     "output_type": "stream",
     "text": [
      "Label ['0', '1', '2', '3', '4', '5', '6', '7', '8', '9', 'A', 'B', 'C', 'D', 'E', 'F', 'G', 'H', 'J', 'K', 'L', 'M', 'N', 'P', 'Q', 'R', 'S', 'T', 'U', 'V', 'X', 'Y', 'Z']\n",
      "Number of Class  33\n"
     ]
    }
   ],
   "source": [
    "dataset = \"char_dataset\"\n",
    "\n",
    "label = []\n",
    "for folder in os.listdir(dataset):\n",
    "    label.append(folder)\n",
    "print(\"Label\" , label)\n",
    "print(\"Number of Class \", len(label))"
   ]
  },
  {
   "cell_type": "code",
   "execution_count": 26,
   "metadata": {},
   "outputs": [],
   "source": [
    "image_vec = []\n",
    "target_data = []\n",
    "for folder in os.listdir(dataset):\n",
    "    for filename in os.listdir(dataset + \"/\" + folder)[:10]:\n",
    "        if filename.find('.jpg') < 0 :\n",
    "            continue\n",
    "        img = cv2.imread(dataset + \"/\" + folder + \"/\" + filename, 0)\n",
    "        for img in img_augmentation(img):\n",
    "            img_hog = hog(deskew(img))\n",
    "            image_vec.append(img_hog)\n",
    "            idx = label.index(folder)\n",
    "            target_data.append(idx)"
   ]
  },
  {
   "cell_type": "code",
   "execution_count": 27,
   "metadata": {},
   "outputs": [
    {
     "data": {
      "text/plain": [
       "3290"
      ]
     },
     "execution_count": 27,
     "metadata": {},
     "output_type": "execute_result"
    }
   ],
   "source": [
    "len(image_vec)"
   ]
  },
  {
   "cell_type": "markdown",
   "metadata": {},
   "source": [
    "- convert data to numpy array"
   ]
  },
  {
   "cell_type": "code",
   "execution_count": 28,
   "metadata": {},
   "outputs": [
    {
     "data": {
      "text/plain": [
       "(64,)"
      ]
     },
     "execution_count": 28,
     "metadata": {},
     "output_type": "execute_result"
    }
   ],
   "source": [
    "image_vec[0].shape"
   ]
  },
  {
   "cell_type": "code",
   "execution_count": 29,
   "metadata": {},
   "outputs": [
    {
     "data": {
      "text/plain": [
       "array([[2532.77897644,  744.54157639, 1225.7422924 , 1477.24721527,\n",
       "         928.63112831,   27.45906067,  176.26589775, 1375.43791199,\n",
       "        1083.20094681,  831.21136475, 1127.39434814,  912.72621155,\n",
       "         597.04534626,   93.60606003,  100.45275879, 2859.96232224,\n",
       "         490.20800114,   58.26263666,   33.83262062,    0.        ,\n",
       "        1382.64660621, 1647.45049858,  936.05144501, 1784.80707169,\n",
       "        1460.21941376,    0.        ,    0.        ,    0.        ,\n",
       "        1467.83242774, 1662.75390625,  427.34214783, 4998.39179516,\n",
       "        1259.57373047,   38.31312227,    0.        ,  395.72781563,\n",
       "        2237.1969862 ,  902.21229744,  794.69460773, 4028.88585758,\n",
       "        1247.97481537,   17.49285507,   10.2956295 ,    0.        ,\n",
       "        1200.51200461, 1496.30647278,  822.62758064, 1021.60772753,\n",
       "        1440.69601202,  435.07816982, 1933.03537464, 1113.32161331,\n",
       "         915.99999809,    0.        ,   14.76482391, 4491.79279709,\n",
       "         980.46136951,  831.78700256, 1361.09838867, 2459.6966753 ,\n",
       "         142.09974051,    8.60232449,   10.2956295 ,  917.17492676]])"
      ]
     },
     "execution_count": 29,
     "metadata": {},
     "output_type": "execute_result"
    }
   ],
   "source": [
    "image_vec[0].reshape(-1,64)"
   ]
  },
  {
   "cell_type": "code",
   "execution_count": 30,
   "metadata": {},
   "outputs": [
    {
     "data": {
      "text/plain": [
       "((3290, 64), (3290,))"
      ]
     },
     "execution_count": 30,
     "metadata": {},
     "output_type": "execute_result"
    }
   ],
   "source": [
    "x = np.float32(image_vec).reshape(-1,64)\n",
    "y = np.array(target_data)\n",
    "\n",
    "x.shape, y.shape"
   ]
  },
  {
   "cell_type": "markdown",
   "metadata": {},
   "source": [
    "- Split Dataset"
   ]
  },
  {
   "cell_type": "code",
   "execution_count": 31,
   "metadata": {},
   "outputs": [
    {
     "data": {
      "text/plain": [
       "((1645, 64), (1645, 64), (1645,), (1645,))"
      ]
     },
     "execution_count": 31,
     "metadata": {},
     "output_type": "execute_result"
    }
   ],
   "source": [
    "from sklearn.model_selection import train_test_split\n",
    "\n",
    "x_train, x_test, y_train, y_test = train_test_split(x, y, test_size=0.5, random_state=42)\n",
    "\n",
    "x_train.shape, x_test.shape, y_train.shape, y_test.shape"
   ]
  },
  {
   "cell_type": "markdown",
   "metadata": {},
   "source": [
    "- Train Model"
   ]
  },
  {
   "cell_type": "code",
   "execution_count": 32,
   "metadata": {},
   "outputs": [],
   "source": [
    "# setup SVM model\n",
    "svm = cv2.ml.SVM_create()\n",
    "svm.setKernel(cv2.ml.SVM_LINEAR)\n",
    "svm.setType(cv2.ml.SVM_C_SVC)\n",
    "svm.setC(2.67)\n",
    "svm.setGamma(5.383)"
   ]
  },
  {
   "cell_type": "code",
   "execution_count": 33,
   "metadata": {},
   "outputs": [
    {
     "data": {
      "text/plain": [
       "True"
      ]
     },
     "execution_count": 33,
     "metadata": {},
     "output_type": "execute_result"
    }
   ],
   "source": [
    "# do train\n",
    "svm.train(x_train, cv2.ml.ROW_SAMPLE, y_train)"
   ]
  },
  {
   "cell_type": "markdown",
   "metadata": {},
   "source": [
    "- Save model"
   ]
  },
  {
   "cell_type": "code",
   "execution_count": 34,
   "metadata": {},
   "outputs": [],
   "source": [
    "svm.save('svm_data.dat')"
   ]
  },
  {
   "cell_type": "markdown",
   "metadata": {},
   "source": [
    "- Apply Prediction for test dataset"
   ]
  },
  {
   "cell_type": "code",
   "execution_count": 35,
   "metadata": {},
   "outputs": [],
   "source": [
    "y_predict = svm.predict(x_test)[1]"
   ]
  },
  {
   "cell_type": "markdown",
   "metadata": {},
   "source": [
    "- Evaluate Test Result"
   ]
  },
  {
   "cell_type": "code",
   "execution_count": 36,
   "metadata": {},
   "outputs": [
    {
     "name": "stdout",
     "output_type": "stream",
     "text": [
      "accuracy : 98.78\n"
     ]
    }
   ],
   "source": [
    "mask = y_predict.T[0]==y_test\n",
    "correct = np.count_nonzero(mask)\n",
    "accuracy = correct*100.0/y_predict.size\n",
    "print(\"accuracy : %.2f\" % accuracy)"
   ]
  },
  {
   "cell_type": "markdown",
   "metadata": {},
   "source": [
    "- Evaluate using **Scikit-Learn**"
   ]
  },
  {
   "cell_type": "code",
   "execution_count": 37,
   "metadata": {},
   "outputs": [
    {
     "name": "stdout",
     "output_type": "stream",
     "text": [
      "              precision    recall  f1-score   support\n",
      "\n",
      "           0       0.92      0.92      0.92        48\n",
      "           1       1.00      0.96      0.98        52\n",
      "           2       1.00      0.98      0.99        58\n",
      "           3       1.00      1.00      1.00        47\n",
      "           4       0.93      0.98      0.96        55\n",
      "           5       1.00      1.00      1.00        55\n",
      "           6       0.98      1.00      0.99        49\n",
      "           7       1.00      1.00      1.00        45\n",
      "           8       1.00      0.98      0.99        52\n",
      "           9       1.00      1.00      1.00        44\n",
      "           A       0.98      0.95      0.96        57\n",
      "           B       0.96      1.00      0.98        45\n",
      "           C       1.00      0.96      0.98        52\n",
      "           D       0.91      0.98      0.94        50\n",
      "           E       1.00      1.00      1.00        57\n",
      "           F       1.00      1.00      1.00        51\n",
      "           G       1.00      1.00      1.00        50\n",
      "           H       1.00      0.98      0.99        55\n",
      "           J       0.98      0.98      0.98        51\n",
      "           K       1.00      1.00      1.00        49\n",
      "           L       1.00      1.00      1.00        42\n",
      "           M       1.00      1.00      1.00        43\n",
      "           N       1.00      1.00      1.00        52\n",
      "           P       1.00      1.00      1.00        56\n",
      "           Q       1.00      1.00      1.00        54\n",
      "           R       1.00      1.00      1.00        45\n",
      "           S       1.00      1.00      1.00        57\n",
      "           T       0.97      0.97      0.97        39\n",
      "           U       0.98      1.00      0.99        49\n",
      "           V       1.00      1.00      1.00        47\n",
      "           X       1.00      1.00      1.00        47\n",
      "           Y       1.00      0.96      0.98        48\n",
      "           Z       1.00      1.00      1.00        44\n",
      "\n",
      "    accuracy                           0.99      1645\n",
      "   macro avg       0.99      0.99      0.99      1645\n",
      "weighted avg       0.99      0.99      0.99      1645\n",
      "\n"
     ]
    }
   ],
   "source": [
    "from sklearn.metrics import classification_report\n",
    "\n",
    "print(classification_report(y_test, y_predict, target_names=label))"
   ]
  },
  {
   "cell_type": "markdown",
   "metadata": {},
   "source": [
    "___"
   ]
  },
  {
   "cell_type": "markdown",
   "metadata": {},
   "source": [
    "## Compare Train Result SVM Model Using Scikit-Learn"
   ]
  },
  {
   "cell_type": "code",
   "execution_count": 38,
   "metadata": {},
   "outputs": [],
   "source": [
    "from sklearn.model_selection import train_test_split\n",
    "from sklearn.model_selection import GridSearchCV\n",
    "from sklearn.svm import SVC\n",
    "from sklearn.model_selection import cross_val_score"
   ]
  },
  {
   "cell_type": "code",
   "execution_count": 39,
   "metadata": {},
   "outputs": [
    {
     "data": {
      "text/plain": [
       "array([0.97572816, 0.98296837, 0.96593674, 0.96350365])"
      ]
     },
     "execution_count": 39,
     "metadata": {},
     "output_type": "execute_result"
    }
   ],
   "source": [
    "svc_cross = SVC(kernel='linear', C=10)\n",
    "\n",
    "scores = cross_val_score(svc_cross, x_train, y_train, cv=4)\n",
    "scores"
   ]
  },
  {
   "cell_type": "code",
   "execution_count": 40,
   "metadata": {},
   "outputs": [
    {
     "name": "stdout",
     "output_type": "stream",
     "text": [
      "0.97 accuracy with a standard deviation of 0.01\n"
     ]
    }
   ],
   "source": [
    "print(\"%0.2f accuracy with a standard deviation of %0.2f\" % (scores.mean(), scores.std()))"
   ]
  },
  {
   "cell_type": "code",
   "execution_count": 41,
   "metadata": {},
   "outputs": [],
   "source": [
    "param_grid = {'C': [2.67],\n",
    "              'gamma': [5.383], }\n",
    "clf = GridSearchCV(SVC(kernel='linear', class_weight='balanced'), param_grid)\n",
    "clf = clf.fit(x_train, y_train)"
   ]
  },
  {
   "cell_type": "code",
   "execution_count": 42,
   "metadata": {},
   "outputs": [
    {
     "name": "stdout",
     "output_type": "stream",
     "text": [
      "              precision    recall  f1-score   support\n",
      "\n",
      "           0       0.92      0.94      0.93        48\n",
      "           1       1.00      0.96      0.98        52\n",
      "           2       1.00      0.98      0.99        58\n",
      "           3       1.00      1.00      1.00        47\n",
      "           4       0.93      0.98      0.96        55\n",
      "           5       1.00      1.00      1.00        55\n",
      "           6       0.98      1.00      0.99        49\n",
      "           7       1.00      1.00      1.00        45\n",
      "           8       1.00      0.98      0.99        52\n",
      "           9       1.00      1.00      1.00        44\n",
      "           A       0.98      0.95      0.96        57\n",
      "           B       0.96      1.00      0.98        45\n",
      "           C       1.00      0.96      0.98        52\n",
      "           D       0.92      0.98      0.95        50\n",
      "           E       1.00      1.00      1.00        57\n",
      "           F       1.00      1.00      1.00        51\n",
      "           G       1.00      1.00      1.00        50\n",
      "           H       1.00      0.98      0.99        55\n",
      "           J       0.98      0.98      0.98        51\n",
      "           K       1.00      1.00      1.00        49\n",
      "           L       1.00      1.00      1.00        42\n",
      "           M       1.00      1.00      1.00        43\n",
      "           N       1.00      1.00      1.00        52\n",
      "           P       1.00      1.00      1.00        56\n",
      "           Q       1.00      1.00      1.00        54\n",
      "           R       1.00      1.00      1.00        45\n",
      "           S       1.00      1.00      1.00        57\n",
      "           T       0.97      0.97      0.97        39\n",
      "           U       0.98      1.00      0.99        49\n",
      "           V       1.00      1.00      1.00        47\n",
      "           X       1.00      1.00      1.00        47\n",
      "           Y       1.00      0.96      0.98        48\n",
      "           Z       1.00      1.00      1.00        44\n",
      "\n",
      "    accuracy                           0.99      1645\n",
      "   macro avg       0.99      0.99      0.99      1645\n",
      "weighted avg       0.99      0.99      0.99      1645\n",
      "\n"
     ]
    }
   ],
   "source": [
    "y_pred = clf.predict(x_test)\n",
    "\n",
    "print(classification_report(y_test, y_pred, target_names=label))"
   ]
  },
  {
   "cell_type": "markdown",
   "metadata": {},
   "source": [
    "___"
   ]
  },
  {
   "cell_type": "markdown",
   "metadata": {},
   "source": [
    "# Apply Model to Plate Number"
   ]
  },
  {
   "cell_type": "code",
   "execution_count": 43,
   "metadata": {},
   "outputs": [],
   "source": [
    "def drawPred(frame, label, left, top, right, bottom):\n",
    "    cv2.rectangle(frame, (left, top), (right, bottom), (255, 0, 255), 2)\n",
    "\n",
    "    labelSize, baseLine = cv2.getTextSize(label, cv2.FONT_HERSHEY_SIMPLEX, 0.5, 1)\n",
    "    top = max(top, labelSize[1])\n",
    "    cv2.rectangle(frame, (left, top - round(1.5*labelSize[1])), \n",
    "                         (max(right, left + labelSize[0]), top + baseLine), (255, 0, 255), -1)\n",
    "    \n",
    "    cv2.putText(frame, label, (left, top), cv2.FONT_HERSHEY_SIMPLEX, 0.50, (255, 255, 255), 1)\n",
    "    return frame"
   ]
  },
  {
   "cell_type": "code",
   "execution_count": 44,
   "metadata": {},
   "outputs": [],
   "source": [
    "def preprocessing(img, h1, h2):\n",
    "    # get roi & resize \n",
    "    h, w, c = img.shape\n",
    "    y1, y2, x1, x2 = int(h1), int(h2), int(w*0.30), int(w*0.70)\n",
    "    roi = img[y1:y2, x1:x2]\n",
    "    scale = 300/roi.shape[0]\n",
    "    roi = cv2.resize(roi, (0,0), fx=scale, fy=scale)\n",
    "    \n",
    "    #convert to gray -> binary\n",
    "    gray = cv2.cvtColor(roi, cv2.COLOR_BGR2GRAY)\n",
    "    __, thresh = cv2.threshold(gray, 0, 255, cv2.THRESH_BINARY + cv2.THRESH_OTSU)\n",
    "    return thresh, roi, [x1, y1, x2, y2], scale\n",
    "    \n",
    "def get_contours(thresh):\n",
    "    contours, hierarchy = cv2.findContours(thresh, cv2.RETR_EXTERNAL, cv2.CHAIN_APPROX_SIMPLE)\n",
    "    h, w, c = img.shape\n",
    "    size = h*w\n",
    "    contours = [cc for i, cc in enumerate(contours) if contour_char_OK(cc, size)]\n",
    "    return contours\n",
    "\n",
    "def contour_char_OK(cc, size=1000000):\n",
    "    x, y, w, h = cv2.boundingRect(cc)\n",
    "    area = cv2.contourArea(cc)\n",
    "    \n",
    "    if w < 3 or h < 5 or area < 120: \n",
    "        return False\n",
    "    \n",
    "    validDimentson = w/h > 0.11 and w/h < 0.78\n",
    "    varidAreaRatio = area/(w*h)  > 0.17\n",
    "    return validDimentson and varidAreaRatio\n",
    "\n",
    "def sort_contours(contours, method=\"left-to-right\"):\n",
    "    reverse = False\n",
    "    i = 0\n",
    "    if method == \"right-to-left\" or method == \"bottom-to-top\":\n",
    "        reverse = True\n",
    "\n",
    "    if method == \"top-to-bottom\" or method == \"bottom-to-top\":\n",
    "        i = 1\n",
    "    boundingBoxes = [cv2.boundingRect(cnt) for cnt in contours]\n",
    "    \n",
    "    cnts, boundingBoxes = zip(*sorted(zip(contours, boundingBoxes), key=lambda b:b[1][i], reverse=reverse))\n",
    "    return cnts, boundingBoxes"
   ]
  },
  {
   "cell_type": "code",
   "execution_count": 45,
   "metadata": {},
   "outputs": [],
   "source": [
    "def crop_plate(thresh, contours):\n",
    "    rects = []\n",
    "    for i, cnt in enumerate(contours) :\n",
    "        rect = cv2.boundingRect(cnt)\n",
    "        rects.append(rect)\n",
    "\n",
    "    rects = np.array(rects)\n",
    "\n",
    "    if len(rects) < 4 :\n",
    "        return False, thresh, []\n",
    "    rects = similar_rect(rects, row=3, n=2) #similar rect for closest `h` (row 3)\n",
    "\n",
    "    if len(rects) < 4 :\n",
    "        return False, thresh, []\n",
    "    rects = similar_rect(rects, row=2, n=2) #similar rect for closest `w` (row 2)\n",
    "\n",
    "    if len(rects) < 4 :\n",
    "        return False, thresh, []\n",
    "    x1 = rects[:, 0].min()\n",
    "    x2 = rects[:, 0].max() + rects[:, 2].max()\n",
    "    y1 = rects[:, 1].min()\n",
    "    y2 = rects[:, 1].max() + rects[:, 3].max()\n",
    "    plate_number = thresh[y1:y2, x1:x2]\n",
    "    return True, plate_number, [x1, y1, x2, y2]\n",
    "\n",
    "def similar_rect(rects, row=3, n=2):\n",
    "    mean = np.mean(rects[:, row])\n",
    "    std = np.std(rects[:, row])\n",
    "    rects = np.array([rect for rect in rects if abs(rect[row] - mean) < n*std and rect_ok(rect)])\n",
    "    return rects\n",
    "\n",
    "def rect_ok(rect):\n",
    "    x, y, w, h = rect\n",
    "    return w/h > 0.11 and w/h < 0.7"
   ]
  },
  {
   "cell_type": "code",
   "execution_count": 60,
   "metadata": {},
   "outputs": [],
   "source": [
    "img = cv2.imread(r\"dataset\\DD1315LN.jpg\")\n",
    "\n",
    "h, w, c = img.shape\n",
    "thresh, roi, roi_rect, s = preprocessing(img, h1=0.5*h, h2=0.85*h )\n",
    "\n",
    "cv2.imshow(\"car img\", thresh)\n",
    "cv2.waitKey(0)\n",
    "cv2.destroyAllWindows()"
   ]
  },
  {
   "cell_type": "code",
   "execution_count": 61,
   "metadata": {},
   "outputs": [
    {
     "name": "stdout",
     "output_type": "stream",
     "text": [
      "text_result ['D', 'D', '1', '1', '3', '1', '5', '6', 'L', 'N']\n"
     ]
    }
   ],
   "source": [
    "# img = cv2.imread(r\"dataset\\AB1196VK.jpg\")\n",
    "img = cv2.imread(r\"dataset\\DD1315LN.jpg\")\n",
    "\n",
    "\n",
    "h, w, c = img.shape\n",
    "thresh, roi, roi_rect, s = preprocessing(img, h1=0.5*h, h2=0.85*h )\n",
    "\n",
    "contours = get_contours(thresh)\n",
    "\n",
    "is_plate, plate_img, plate_rect = crop_plate(thresh, contours)\n",
    "\n",
    "# pts = find_4_coord(contours)\n",
    "# plate_img = transform(plate_img, pts)\n",
    "\n",
    "chars = []\n",
    "if is_plate :\n",
    "    x1, y1, x2, y2 = plate_rect\n",
    "    x1_, y1_, x2_, y2_ = roi_rect\n",
    "    left = int(x1/s) + x1_\n",
    "    top = int(y1/s) + y1_\n",
    "    right = int(x2/s) + x1_\n",
    "    bottom = int(y2/s) + y1_\n",
    "    plate_img_rgb = roi[y1:y2, x1:x2] # get image license plate\n",
    "    \n",
    "    contours = get_contours(plate_img)\n",
    "    if len(contours) > 1:\n",
    "        contours, __ = sort_contours(contours) \n",
    "        for i, cnt in enumerate(contours) :\n",
    "            x, y, w, h = cv2.boundingRect(cnt) # get bounding box each character\n",
    "            \n",
    "            char = plate_img_rgb[y:y+h, x:x+w]\n",
    "            char_grey = cv2.cvtColor(char, cv2.COLOR_BGR2GRAY)\n",
    "            char_inv = cv2.bitwise_not(char_grey)\n",
    "            cv2.imshow(\"char_inv - %d\" % i, char_inv)\n",
    "            char_inv = cv2.resize(char_inv, (20,20))\n",
    "\n",
    "            char_hog = hog(deskew(char_inv))\n",
    "            chars.append(char_hog)\n",
    "            \n",
    "        chars = np.float32(chars).reshape(-1, 64)\n",
    "        result = svm.predict(chars)[1].T[0]\n",
    "        # print(\"result\", result)\n",
    "        text_result = [label[int(idx)] for idx in result]\n",
    "        print(\"text_result\", text_result)\n",
    "        img = drawPred(img, ''.join(text_result), left, top - 5, right, bottom)\n",
    "\n",
    "cv2.imshow(\"plate img\", plate_img_rgb)\n",
    "# cv2.imshow(\"car img\", img)\n",
    "cv2.waitKey(0)\n",
    "cv2.destroyAllWindows()"
   ]
  },
  {
   "cell_type": "markdown",
   "metadata": {},
   "source": [
    "- Geometric Correction"
   ]
  },
  {
   "cell_type": "code",
   "execution_count": null,
   "metadata": {},
   "outputs": [],
   "source": [
    "def find_4_coord(contours):\n",
    "    perimeter = []\n",
    "    for cc in contours:\n",
    "        perimeter = cv2.approxPolyDP(cc, 0.09 * cv2.arcLength(cc, True), True)\n",
    "    return np.array(perimeter[:,0,:])\n",
    "        \n",
    "def order_points(pts):\n",
    "\n",
    "    rect = np.zeros((4, 2), dtype = \"float32\")\n",
    "    s = pts.sum(axis = 1)\n",
    "    rect[0] = pts[np.argmin(s)]\n",
    "    rect[2] = pts[np.argmax(s)]\n",
    "    diff = np.diff(pts, axis = 1)\n",
    "    rect[1] = pts[np.argmin(diff)]\n",
    "    rect[3] = pts[np.argmax(diff)]\n",
    "    return rect\n",
    "\n",
    "def transform(img, pts):\n",
    "\n",
    "    rect = order_points(pts)\n",
    "    (tl, tr, br, bl) = rect\n",
    "    print(tl, tr, br, bl)\n",
    "\n",
    "    for pt in rect.astype(np.uint16):\n",
    "        cv2.circle(img, (pt[0], pt[1]), 4, (0,255,255), -1)\n",
    "\n",
    "    widthA = np.sqrt(((br[0] - bl[0]) ** 2) + ((br[1] - bl[1]) ** 2))\n",
    "    widthB = np.sqrt(((tr[0] - tl[0]) ** 2) + ((tr[1] - tl[1]) ** 2))\n",
    "    maxWidth = max(int(widthA), int(widthB))\n",
    "\n",
    "    heightA = np.sqrt(((tr[0] - br[0]) ** 2) + ((tr[1] - br[1]) ** 2))\n",
    "    heightB = np.sqrt(((tl[0] - bl[0]) ** 2) + ((tl[1] - bl[1]) ** 2))\n",
    "    maxHeight = max(int(heightA), int(heightB))\n",
    "\n",
    "    dst = np.array([\n",
    "        [0, 0],\n",
    "        [maxWidth, 0],\n",
    "        [maxWidth, maxHeight],\n",
    "        [0, maxHeight]], dtype = \"float32\")\n",
    "\n",
    "    M = cv2.getPerspectiveTransform(rect, dst)\n",
    "    warped = cv2.warpPerspective(img, M, (100, 150))\n",
    "    return warped"
   ]
  },
  {
   "cell_type": "code",
   "execution_count": 37,
   "metadata": {},
   "outputs": [],
   "source": [
    "ml_acc = [90, 50, 98, 100, 98, 100, 99, 95, 99, 0, 100, 98, 98, 99, 95, 90, 98, 96, 98, 0]\n",
    "ml_err = [12.5, 62.5, 12.5, 0, 25, 37.5, 0, 100, 100, 75, 0, 25, 62.5, 12.5, 25, 33.3333, 0, 50 ,0, 0]\n",
    "ml_acc.sort(reverse=False)\n",
    "ml_err.sort(reverse=True)\n",
    "\n",
    "py_acc = [90, 30, 90, 100, 95, 96, 100, 0, 0, 20, 100, 95, 96, 96, 95, 90, 90, 94, 100, 100]\n",
    "py_err = [12.5, 62.5, 12.5, 0, 37.5, 0, 12.5, 12.5, 14.2857, 100, 0, 25, 37.5, 12.5, 25, 33.3333, 12.5 ,50, 12.5, 87.5]\n",
    "py_acc.sort(reverse=False)\n",
    "py_err.sort(reverse=True)"
   ]
  },
  {
   "cell_type": "code",
   "execution_count": 40,
   "metadata": {},
   "outputs": [
    {
     "data": {
      "image/png": "[encoded data removed]",
      "text/plain": [
       "<Figure size 576x576 with 2 Axes>"
      ]
     },
     "metadata": {
      "needs_background": "light"
     },
     "output_type": "display_data"
    }
   ],
   "source": [
    "import matplotlib.pyplot as plt\n",
    "\n",
    "ranges = range(0,20)\n",
    "\n",
    "plt.figure(figsize=(8, 8))\n",
    "plt.subplot(1, 2, 1)\n",
    "plt.plot(ranges, ml_acc, label='Accuracy')\n",
    "plt.plot(ranges, ml_err, label='Error Rate')\n",
    "plt.legend(loc='lower left')\n",
    "plt.title('OCR Machine Learning')\n",
    "\n",
    "plt.subplot(1, 2, 2)\n",
    "plt.plot(ranges, py_acc, label='Accuracy')\n",
    "plt.plot(ranges, py_err, label='Error Rate')\n",
    "plt.legend(loc='lower left')\n",
    "plt.title('OCR Tesseract')\n",
    "plt.show()"
   ]
  }
 ],
 "metadata": {
  "interpreter": {
   "hash": "11f1dc213e07634baa4c5c321dec03c05dafae643c50f20e6d1a492290c05dc2"
  },
  "kernelspec": {
   "display_name": "Python [conda env:opencv_env]",
   "language": "python",
   "name": "python3"
  },
  "language_info": {
   "codemirror_mode": {
    "name": "ipython",
    "version": 3
   },
   "file_extension": ".py",
   "mimetype": "text/x-python",
   "name": "python",
   "nbconvert_exporter": "python",
   "pygments_lexer": "ipython3",
   "version": "3.9.7"
  }
 },
 "nbformat": 4,
 "nbformat_minor": 4
}
